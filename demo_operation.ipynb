{
 "cells": [
  {
   "cell_type": "code",
   "execution_count": 1,
   "id": "22150520",
   "metadata": {},
   "outputs": [],
   "source": [
    "import torch"
   ]
  },
  {
   "cell_type": "code",
   "execution_count": 2,
   "id": "60ab0433",
   "metadata": {},
   "outputs": [
    {
     "name": "stdout",
     "output_type": "stream",
     "text": [
      "tensor([[0.2618, 0.7282, 0.2000, 0.2735],\n",
      "        [0.7068, 0.2000, 0.8000, 0.8000],\n",
      "        [0.2000, 0.2000, 0.6981, 0.4552]])\n"
     ]
    }
   ],
   "source": [
    "a = torch.rand(3, 4)\n",
    "\n",
    "print(a.clamp(0.2, 0.8))  # Clamp values to be between 0.2 and 0.8"
   ]
  },
  {
   "cell_type": "code",
   "execution_count": 13,
   "id": "4aa95fac",
   "metadata": {},
   "outputs": [
    {
     "name": "stdout",
     "output_type": "stream",
     "text": [
      "tensor([[0.2618, 0.7282, 0.0617, 0.2735],\n",
      "        [0.7068, 0.0594, 0.9745, 0.8377],\n",
      "        [0.0700, 0.1901, 0.6981, 0.4552]])\n",
      "tensor([[0.0000, 0.7282, 0.0000, 0.0000],\n",
      "        [0.7068, 0.0000, 0.9745, 0.8377],\n",
      "        [0.0000, 0.0000, 0.6981, 0.0000]])\n",
      "tensor([[0.2618, 0.7282, 0.0617, 0.2735],\n",
      "        [0.0700, 0.1901, 0.6981, 0.4552]])\n",
      "tensor([[0.2618, 0.0594],\n",
      "        [0.0700, 0.0594]])\n",
      "tensor([0.2618, 0.7282, 0.0617])\n"
     ]
    }
   ],
   "source": [
    "print(a)\n",
    "print(\n",
    "    torch.where(a > 0.5, a, torch.tensor(0.0))\n",
    ")  # Replace values greater than 0.5 with 0\n",
    "print(\n",
    "    torch.index_select(a, dim=0, index=torch.tensor([0, 2]))\n",
    ")  # Select rows 0 and 2 from tensor a\n",
    "print(\n",
    "    torch.gather(a, dim=0, index=torch.tensor([[0, 1], [2, 1]]))\n",
    ")  # Gather values from a using the specified indices\n",
    "\n",
    "print(\n",
    "    torch.take(a, torch.tensor([0, 1, 2]))\n",
    ")  # Take values from a using the specified indices"
   ]
  }
 ],
 "metadata": {
  "kernelspec": {
   "display_name": "base",
   "language": "python",
   "name": "python3"
  },
  "language_info": {
   "codemirror_mode": {
    "name": "ipython",
    "version": 3
   },
   "file_extension": ".py",
   "mimetype": "text/x-python",
   "name": "python",
   "nbconvert_exporter": "python",
   "pygments_lexer": "ipython3",
   "version": "3.10.9"
  }
 },
 "nbformat": 4,
 "nbformat_minor": 5
}
