{
 "cells": [
  {
   "cell_type": "code",
   "execution_count": 3,
   "metadata": {},
   "outputs": [
    {
     "name": "stdout",
     "output_type": "stream",
     "text": [
      "torch.Size([3])\n",
      "torch.int64\n",
      "cpu\n",
      "cuda:0\n"
     ]
    }
   ],
   "source": [
    "import torch\n",
    "\n",
    "# 创建张量\n",
    "tensor1 = torch.tensor([1, 2, 3])  # 从列表创建张量\n",
    "tensor2 = torch.zeros((2, 3))  # 创建全零张量\n",
    "tensor3 = torch.ones((2, 3))  # 创建全一张量\n",
    "tensor4 = torch.rand((2, 3))  # 创建随机张量\n",
    "\n",
    "# 张量的基本属性\n",
    "print(tensor1.shape)  # 查看张量的形状\n",
    "print(tensor1.dtype)  # 查看张量的数据类型\n",
    "print(tensor1.device)  # 查看张量所在的设备（CPU/GPU）\n",
    "\n",
    "# 张量的基本操作\n",
    "tensor5 = tensor1 + 1  # 张量加法\n",
    "tensor6 = tensor1 * 2  # 张量乘法\n",
    "tensor7 = tensor1 @ tensor1.T  # 矩阵乘法（点积）\n",
    "tensor8 = tensor1.sum()  # 求和\n",
    "# tensor9 = tensor1.mean()  # 求均值\n",
    "\n",
    "# 改变张量形状\n",
    "tensor10 = tensor2.view(3, 2)  # 改变形状\n",
    "tensor11 = tensor2.reshape(3, 2)  # 改变形状（类似view）\n",
    "\n",
    "# 张量与NumPy的互操作\n",
    "import numpy as np\n",
    "\n",
    "array = np.array([1, 2, 3])\n",
    "tensor12 = torch.from_numpy(array)  # NumPy数组转张量\n",
    "array2 = tensor12.numpy()  # 张量转NumPy数组\n",
    "\n",
    "# 张量在GPU上的操作\n",
    "if torch.cuda.is_available():\n",
    "    tensor13 = tensor1.to(\"cuda\")  # 将张量移动到GPU\n",
    "    print(tensor13.device)"
   ]
  },
  {
   "cell_type": "code",
   "execution_count": 4,
   "metadata": {},
   "outputs": [
    {
     "data": {
      "text/plain": [
       "tensor([[6, 4, 4],\n",
       "        [4, 0, 3]])"
      ]
     },
     "execution_count": 4,
     "metadata": {},
     "output_type": "execute_result"
    }
   ],
   "source": [
    "import torch\n",
    "\n",
    "# 创建张量\n",
    "x = torch.tensor([[3, 2], [3, 1]])\n",
    "x = torch.zeros((2, 3))  # 创建全零张量\n",
    "x = torch.zeros(3)\n",
    "x = torch.zeros_like(torch.tensor([[1, 2], [3, 4]]))  # 创建与给定张量相同形状的全零张量\n",
    "x = torch.ones((2, 3))  # 创建全一张量\n",
    "x = torch.rand((2, 3))  # 创建随机张量\n",
    "x = torch.randn((2, 3))  # 创建标准正态分布随机张量\n",
    "x = torch.randint(0, 10, (2, 3))  # 创建随机整数张量\n",
    "x"
   ]
  },
  {
   "cell_type": "code",
   "execution_count": 5,
   "metadata": {},
   "outputs": [
    {
     "data": {
      "text/plain": [
       "device(type='cpu')"
      ]
     },
     "execution_count": 5,
     "metadata": {},
     "output_type": "execute_result"
    }
   ],
   "source": [
    "x.shape\n",
    "x.dtype\n",
    "x.device  # 查看张量所在的设备（CPU/GPU）"
   ]
  },
  {
   "cell_type": "code",
   "execution_count": 6,
   "metadata": {},
   "outputs": [
    {
     "data": {
      "text/plain": [
       "tensor(2.)"
      ]
     },
     "execution_count": 6,
     "metadata": {},
     "output_type": "execute_result"
    }
   ],
   "source": [
    "x1 = torch.tensor([1.0, 2.0, 3.0])  # 从列表创建张量\n",
    "x2 = torch.tensor([[4, 5, 6]])  # 从嵌套列表创建张量\n",
    "x = x1 + 1  # 张量加法\n",
    "x = x1 * 2  # 张量乘法\n",
    "x = x2 @ x2.T  # 矩阵乘法（点积）\n",
    "x = x1.sum()  # 求和\n",
    "x = x1.mean()  # 求均值\n",
    "x"
   ]
  },
  {
   "cell_type": "code",
   "execution_count": 7,
   "metadata": {},
   "outputs": [
    {
     "data": {
      "text/plain": [
       "tensor([[1.],\n",
       "        [2.],\n",
       "        [3.]])"
      ]
     },
     "execution_count": 7,
     "metadata": {},
     "output_type": "execute_result"
    }
   ],
   "source": [
    "x = x1.view(3, 1)  # 改变形状\n",
    "x = x1.reshape(3, 1)  # 改变形状（类似view）\n",
    "x"
   ]
  },
  {
   "cell_type": "code",
   "execution_count": 8,
   "metadata": {},
   "outputs": [
    {
     "data": {
      "text/plain": [
       "array([[1, 2],\n",
       "       [3, 4]])"
      ]
     },
     "execution_count": 8,
     "metadata": {},
     "output_type": "execute_result"
    }
   ],
   "source": [
    "import numpy as np\n",
    "\n",
    "x = torch.from_numpy(np.array([[1, 2], [3, 4]]))  # NumPy数组转张量\n",
    "x = x.numpy()  # 张量转NumPy数组\n",
    "x"
   ]
  },
  {
   "cell_type": "code",
   "execution_count": 12,
   "metadata": {},
   "outputs": [
    {
     "name": "stdout",
     "output_type": "stream",
     "text": [
      "tensor([[2., 2., 2.],\n",
      "        [2., 2., 2.]])\n",
      "tensor([[2., 2., 2.],\n",
      "        [2., 2., 2.]])\n",
      "tensor([[2., 2., 2.],\n",
      "        [2., 2., 2.]])\n",
      "tensor([[2., 2., 2.],\n",
      "        [2., 2., 2.]])\n"
     ]
    }
   ],
   "source": [
    "a = torch.ones((2, 3))\n",
    "b = torch.ones((2, 3))\n",
    "\n",
    "print(a + b)\n",
    "print(a.add(b))\n",
    "print(a.add_(b))\n",
    "print(a)"
   ]
  },
  {
   "cell_type": "code",
   "execution_count": 13,
   "metadata": {},
   "outputs": [
    {
     "name": "stdout",
     "output_type": "stream",
     "text": [
      "tensor([[1., 1., 1.],\n",
      "        [1., 1., 1.]])\n",
      "tensor([[1., 1., 1.],\n",
      "        [1., 1., 1.]])\n",
      "tensor([[1., 1., 1.],\n",
      "        [1., 1., 1.]])\n",
      "tensor([[1., 1., 1.],\n",
      "        [1., 1., 1.]])\n"
     ]
    }
   ],
   "source": [
    "print(a - b)\n",
    "print(a.sub(b))\n",
    "print(a.sub_(b))\n",
    "print(a)"
   ]
  },
  {
   "cell_type": "code",
   "execution_count": 17,
   "metadata": {},
   "outputs": [
    {
     "name": "stdout",
     "output_type": "stream",
     "text": [
      "tensor([[1., 1., 1.],\n",
      "        [1., 1., 1.]])\n",
      "tensor([[1., 1., 1.],\n",
      "        [1., 1., 1.]])\n",
      "tensor([[1., 1., 1.],\n",
      "        [1., 1., 1.]])\n",
      "tensor([[1., 1., 1.],\n",
      "        [1., 1., 1.]])\n"
     ]
    }
   ],
   "source": [
    "print(a * b)\n",
    "print(a.mul(b))\n",
    "print(a.mul_(b))\n",
    "print(a)"
   ]
  },
  {
   "cell_type": "code",
   "execution_count": 20,
   "metadata": {},
   "outputs": [
    {
     "name": "stdout",
     "output_type": "stream",
     "text": [
      "tensor([[3., 3.],\n",
      "        [3., 3.]])\n"
     ]
    }
   ],
   "source": [
    "c = torch.ones((3, 2))\n",
    "print(a @ c)"
   ]
  },
  {
   "cell_type": "code",
   "execution_count": 21,
   "metadata": {},
   "outputs": [
    {
     "name": "stdout",
     "output_type": "stream",
     "text": [
      "tensor([[1., 1., 1.],\n",
      "        [1., 1., 1.]])\n",
      "tensor([[1., 1., 1.],\n",
      "        [1., 1., 1.]])\n",
      "tensor([[1., 1., 1.],\n",
      "        [1., 1., 1.]])\n"
     ]
    }
   ],
   "source": [
    "print(a / b)\n",
    "print(a.div(b))\n",
    "print(a.div_(b))"
   ]
  },
  {
   "cell_type": "code",
   "execution_count": 23,
   "metadata": {},
   "outputs": [
    {
     "name": "stdout",
     "output_type": "stream",
     "text": [
      "tensor([[1, 4],\n",
      "        [4, 9]])\n"
     ]
    }
   ],
   "source": [
    "d = torch.tensor([[1, 2], [2, 3]])\n",
    "print(torch.pow(d, 2))"
   ]
  },
  {
   "cell_type": "code",
   "execution_count": 24,
   "metadata": {},
   "outputs": [
    {
     "name": "stdout",
     "output_type": "stream",
     "text": [
      "tensor([[ 2.7183,  7.3891],\n",
      "        [ 7.3891, 20.0855]])\n"
     ]
    }
   ],
   "source": [
    "print(torch.exp(d))"
   ]
  },
  {
   "cell_type": "code",
   "execution_count": 25,
   "metadata": {},
   "outputs": [
    {
     "name": "stdout",
     "output_type": "stream",
     "text": [
      "tensor([[0.0000, 0.6931],\n",
      "        [0.6931, 1.0986]])\n"
     ]
    }
   ],
   "source": [
    "print(torch.log(d))"
   ]
  },
  {
   "cell_type": "code",
   "execution_count": 26,
   "metadata": {},
   "outputs": [
    {
     "name": "stdout",
     "output_type": "stream",
     "text": [
      "tensor([[0.0000, 0.3010],\n",
      "        [0.3010, 0.4771]])\n"
     ]
    }
   ],
   "source": [
    "print(torch.log10(d))"
   ]
  },
  {
   "cell_type": "code",
   "execution_count": 27,
   "metadata": {},
   "outputs": [
    {
     "name": "stdout",
     "output_type": "stream",
     "text": [
      "tensor([[1.0000, 1.4142],\n",
      "        [1.4142, 1.7321]])\n"
     ]
    }
   ],
   "source": [
    "print(torch.sqrt(d))"
   ]
  },
  {
   "cell_type": "code",
   "execution_count": 31,
   "metadata": {},
   "outputs": [
    {
     "name": "stdout",
     "output_type": "stream",
     "text": [
      "tensor([[[0.6598, 0.6371, 0.6933]],\n",
      "\n",
      "        [[0.3437, 0.9041, 0.8012]]])\n",
      "tensor([0.5157, 0.0389, 0.2242])\n",
      "tensor([[[1.1755, 0.6760, 0.9176]],\n",
      "\n",
      "        [[0.8593, 0.9430, 1.0254]]])\n"
     ]
    }
   ],
   "source": [
    "a = torch.rand([2, 1, 3])\n",
    "b = torch.rand(3)\n",
    "c = a + b\n",
    "print(a)\n",
    "print(b)\n",
    "print(c)"
   ]
  },
  {
   "cell_type": "code",
   "execution_count": 32,
   "metadata": {},
   "outputs": [
    {
     "name": "stdout",
     "output_type": "stream",
     "text": [
      "tensor([[4.4332, 2.9247],\n",
      "        [8.8647, 0.4570]])\n"
     ]
    }
   ],
   "source": [
    "a = torch.rand(2, 2)\n",
    "a = a * 10\n",
    "print(a)"
   ]
  },
  {
   "cell_type": "code",
   "execution_count": 33,
   "metadata": {},
   "outputs": [
    {
     "name": "stdout",
     "output_type": "stream",
     "text": [
      "tensor([[4., 2.],\n",
      "        [8., 0.]])\n"
     ]
    }
   ],
   "source": [
    "print(torch.floor(a))"
   ]
  },
  {
   "cell_type": "code",
   "execution_count": 34,
   "metadata": {},
   "outputs": [
    {
     "name": "stdout",
     "output_type": "stream",
     "text": [
      "tensor([[5., 3.],\n",
      "        [9., 1.]])\n",
      "tensor([[4., 3.],\n",
      "        [9., 0.]])\n",
      "tensor([[4., 2.],\n",
      "        [8., 0.]])\n",
      "tensor([[0.4332, 0.9247],\n",
      "        [0.8647, 0.4570]])\n",
      "tensor([[0.4332, 0.9247],\n",
      "        [0.8647, 0.4570]])\n"
     ]
    }
   ],
   "source": [
    "print(torch.ceil(a))\n",
    "print(torch.round(a))\n",
    "print(torch.trunc(a))\n",
    "print(torch.frac(a))\n",
    "print(a % 2)"
   ]
  }
 ],
 "metadata": {
  "kernelspec": {
   "display_name": "base",
   "language": "python",
   "name": "python3"
  },
  "language_info": {
   "codemirror_mode": {
    "name": "ipython",
    "version": 3
   },
   "file_extension": ".py",
   "mimetype": "text/x-python",
   "name": "python",
   "nbconvert_exporter": "python",
   "pygments_lexer": "ipython3",
   "version": "3.10.9"
  }
 },
 "nbformat": 4,
 "nbformat_minor": 2
}
