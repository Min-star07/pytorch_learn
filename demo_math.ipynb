{
 "cells": [
  {
   "cell_type": "code",
   "execution_count": 2,
   "id": "041f27dc",
   "metadata": {},
   "outputs": [],
   "source": [
    "import torch"
   ]
  },
  {
   "cell_type": "code",
   "execution_count": 2,
   "id": "a294485b",
   "metadata": {},
   "outputs": [
    {
     "name": "stdout",
     "output_type": "stream",
     "text": [
      "tensor([[0.0880, 0.3048, 0.0417],\n",
      "        [0.7777, 0.0019, 0.2381]])\n"
     ]
    }
   ],
   "source": [
    "a = torch.rand(2, 3)\n",
    "print(a)"
   ]
  },
  {
   "cell_type": "code",
   "execution_count": 3,
   "id": "cadf08f6",
   "metadata": {},
   "outputs": [
    {
     "name": "stdout",
     "output_type": "stream",
     "text": [
      "tensor([[0.9961, 0.9539, 0.9991],\n",
      "        [0.7125, 1.0000, 0.9718]])\n",
      "tensor([[0.0878, 0.3001, 0.0417],\n",
      "        [0.7017, 0.0019, 0.2359]])\n"
     ]
    }
   ],
   "source": [
    "print(torch.cos(a))\n",
    "print(torch.sin(a))"
   ]
  },
  {
   "cell_type": "code",
   "execution_count": 11,
   "id": "cddfd8ef",
   "metadata": {},
   "outputs": [
    {
     "name": "stdout",
     "output_type": "stream",
     "text": [
      "tensor([[0.7260, 0.5903, 0.6681],\n",
      "        [0.7026, 0.5858, 0.7830]])\n"
     ]
    }
   ],
   "source": [
    "# torch.manual_seed(1)\n",
    "a = torch.rand(2, 3)\n",
    "print(torch.normal(mean=a, std=0.1))"
   ]
  },
  {
   "cell_type": "code",
   "execution_count": 13,
   "id": "9576dc93",
   "metadata": {},
   "outputs": [
    {
     "name": "stdout",
     "output_type": "stream",
     "text": [
      "tensor([[0.1251]])\n",
      "tensor(0.1251)\n",
      "tensor(0.1251)\n"
     ]
    }
   ],
   "source": [
    "a = torch.rand(1, 1)\n",
    "print(a)\n",
    "print(torch.norm(a, p=2))\n",
    "print(torch.norm(a, p=1))"
   ]
  },
  {
   "cell_type": "code",
   "execution_count": 3,
   "id": "51e2ebd9",
   "metadata": {},
   "outputs": [
    {
     "name": "stdout",
     "output_type": "stream",
     "text": [
      "tensor([[0.5170, 0.1692, 0.3657, 0.8787],\n",
      "        [0.7310, 0.9538, 0.6612, 0.3692],\n",
      "        [0.5962, 0.6783, 0.1048, 0.2695]])\n",
      "(tensor([[0.5170, 0.1692, 0.3657, 0.8787]]), tensor([[0.7310, 0.9538, 0.6612, 0.3692]]), tensor([[0.5962, 0.6783, 0.1048, 0.2695]]))\n"
     ]
    }
   ],
   "source": [
    "a = torch.rand(3, 4)\n",
    "print(a)\n",
    "print(torch.split(a, 1, dim=0))"
   ]
  },
  {
   "cell_type": "code",
   "execution_count": 16,
   "id": "d1bc957d",
   "metadata": {},
   "outputs": [
    {
     "name": "stdout",
     "output_type": "stream",
     "text": [
      "tensor([[0.6536, 0.0049, 0.3962, 0.8145],\n",
      "        [0.0456, 0.7569, 0.8782, 0.9941],\n",
      "        [0.5236, 0.4033, 0.8367, 0.4388]])\n",
      "torch.Size([3, 4])\n",
      "tensor([[0.4370, 0.5965, 0.5085, 0.6097],\n",
      "        [0.5881, 0.7496, 0.4230, 0.6656],\n",
      "        [0.2333, 0.2882, 0.1538, 0.3566]])\n",
      "torch.Size([3, 4])\n",
      "tensor([[0.6536, 0.0049, 0.3962, 0.8145],\n",
      "        [0.0456, 0.7569, 0.8782, 0.9941],\n",
      "        [0.5236, 0.4033, 0.8367, 0.4388],\n",
      "        [0.4370, 0.5965, 0.5085, 0.6097],\n",
      "        [0.5881, 0.7496, 0.4230, 0.6656],\n",
      "        [0.2333, 0.2882, 0.1538, 0.3566]])\n",
      "torch.Size([6, 4])\n",
      "tensor([[0.6536, 0.0049, 0.3962, 0.8145, 0.4370, 0.5965, 0.5085, 0.6097],\n",
      "        [0.0456, 0.7569, 0.8782, 0.9941, 0.5881, 0.7496, 0.4230, 0.6656],\n",
      "        [0.5236, 0.4033, 0.8367, 0.4388, 0.2333, 0.2882, 0.1538, 0.3566]])\n",
      "torch.Size([3, 8])\n"
     ]
    }
   ],
   "source": [
    "a = torch.rand(3, 4)\n",
    "b = torch.rand(3, 4)\n",
    "print(a)\n",
    "print(a.shape)\n",
    "print(b)\n",
    "print(b.shape)\n",
    "out = torch.cat((a, b), dim=0)\n",
    "print(out)\n",
    "print(out.shape)\n",
    "\n",
    "out = torch.cat((a, b), dim=1)\n",
    "print(out)\n",
    "print(out.shape)"
   ]
  },
  {
   "cell_type": "code",
   "execution_count": 17,
   "id": "00c03f66",
   "metadata": {},
   "outputs": [
    {
     "name": "stdout",
     "output_type": "stream",
     "text": [
      "tensor([[[0.6536, 0.0049, 0.3962, 0.8145],\n",
      "         [0.0456, 0.7569, 0.8782, 0.9941],\n",
      "         [0.5236, 0.4033, 0.8367, 0.4388]],\n",
      "\n",
      "        [[0.4370, 0.5965, 0.5085, 0.6097],\n",
      "         [0.5881, 0.7496, 0.4230, 0.6656],\n",
      "         [0.2333, 0.2882, 0.1538, 0.3566]]])\n",
      "torch.Size([2, 3, 4])\n",
      "tensor([[[0.6536, 0.0049, 0.3962, 0.8145],\n",
      "         [0.4370, 0.5965, 0.5085, 0.6097]],\n",
      "\n",
      "        [[0.0456, 0.7569, 0.8782, 0.9941],\n",
      "         [0.5881, 0.7496, 0.4230, 0.6656]],\n",
      "\n",
      "        [[0.5236, 0.4033, 0.8367, 0.4388],\n",
      "         [0.2333, 0.2882, 0.1538, 0.3566]]])\n",
      "torch.Size([3, 2, 4])\n"
     ]
    }
   ],
   "source": [
    "out = torch.stack((a, b), dim=0)\n",
    "print(out)\n",
    "print(out.shape)\n",
    "\n",
    "out = torch.stack((a, b), dim=1)\n",
    "print(out)\n",
    "print(out.shape)"
   ]
  },
  {
   "cell_type": "code",
   "execution_count": 19,
   "id": "d4229284",
   "metadata": {},
   "outputs": [
    {
     "name": "stdout",
     "output_type": "stream",
     "text": [
      "tensor([[0.4324, 0.3921, 0.2262, 0.6090],\n",
      "        [0.1457, 0.7581, 0.7015, 0.3900],\n",
      "        [0.7020, 0.8606, 0.2783, 0.3878]])\n",
      "tensor([[0.4324, 0.3921, 0.2262],\n",
      "        [0.6090, 0.1457, 0.7581],\n",
      "        [0.7015, 0.3900, 0.7020],\n",
      "        [0.8606, 0.2783, 0.3878]])\n"
     ]
    }
   ],
   "source": [
    "a = torch.rand(3, 4)\n",
    "print(a)\n",
    "print(torch.reshape(a, (4, 3)))"
   ]
  },
  {
   "cell_type": "code",
   "execution_count": 20,
   "id": "f3254dbd",
   "metadata": {},
   "outputs": [
    {
     "name": "stdout",
     "output_type": "stream",
     "text": [
      "tensor([[0.4324, 0.1457, 0.7020],\n",
      "        [0.3921, 0.7581, 0.8606],\n",
      "        [0.2262, 0.7015, 0.2783],\n",
      "        [0.6090, 0.3900, 0.3878]])\n"
     ]
    }
   ],
   "source": [
    "print(torch.transpose(a, 0, 1))"
   ]
  },
  {
   "cell_type": "code",
   "execution_count": 29,
   "id": "3dcf1fcf",
   "metadata": {},
   "outputs": [
    {
     "name": "stdout",
     "output_type": "stream",
     "text": [
      "tensor([[[0.3471, 0.8671, 0.1282, 0.3842],\n",
      "         [0.0700, 0.2105, 0.1860, 0.6618]],\n",
      "\n",
      "        [[0.9020, 0.7855, 0.3964, 0.7002],\n",
      "         [0.8992, 0.7170, 0.8706, 0.5219]],\n",
      "\n",
      "        [[0.0210, 0.2473, 0.5925, 0.5017],\n",
      "         [0.3634, 0.4535, 0.9112, 0.0305]]])\n",
      "torch.Size([3, 2, 4])\n",
      "tensor([[[0.3471, 0.0700],\n",
      "         [0.8671, 0.2105],\n",
      "         [0.1282, 0.1860],\n",
      "         [0.3842, 0.6618]],\n",
      "\n",
      "        [[0.9020, 0.8992],\n",
      "         [0.7855, 0.7170],\n",
      "         [0.3964, 0.8706],\n",
      "         [0.7002, 0.5219]],\n",
      "\n",
      "        [[0.0210, 0.3634],\n",
      "         [0.2473, 0.4535],\n",
      "         [0.5925, 0.9112],\n",
      "         [0.5017, 0.0305]]])\n",
      "torch.Size([3, 4, 2])\n"
     ]
    }
   ],
   "source": [
    "b = torch.rand(3, 2, 4)\n",
    "print(b)\n",
    "print(b.shape)\n",
    "out = torch.transpose(b, 2, 1)\n",
    "print(out)\n",
    "print(out.shape)"
   ]
  },
  {
   "cell_type": "code",
   "execution_count": 21,
   "id": "b6ab89c6",
   "metadata": {},
   "outputs": [
    {
     "name": "stdout",
     "output_type": "stream",
     "text": [
      "tensor([[0.4324, 0.1457, 0.7020],\n",
      "        [0.3921, 0.7581, 0.8606],\n",
      "        [0.2262, 0.7015, 0.2783],\n",
      "        [0.6090, 0.3900, 0.3878]])\n"
     ]
    }
   ],
   "source": [
    "print(torch.t(a))"
   ]
  },
  {
   "cell_type": "code",
   "execution_count": 33,
   "id": "6e3d0ed6",
   "metadata": {},
   "outputs": [
    {
     "name": "stdout",
     "output_type": "stream",
     "text": [
      "tensor([[[0.1297, 0.7620]],\n",
      "\n",
      "        [[0.0424, 0.7052]],\n",
      "\n",
      "        [[0.9155, 0.6276]]])\n",
      "torch.Size([3, 1, 2])\n",
      "tensor([[0.1297, 0.7620],\n",
      "        [0.0424, 0.7052],\n",
      "        [0.9155, 0.6276]])\n",
      "torch.Size([3, 2])\n"
     ]
    }
   ],
   "source": [
    "a = torch.rand(3, 1, 2)\n",
    "print(a)\n",
    "print(a.shape)\n",
    "out = torch.squeeze(a)\n",
    "print(out)\n",
    "print(out.shape)"
   ]
  },
  {
   "cell_type": "code",
   "execution_count": 43,
   "id": "7e3219a4",
   "metadata": {},
   "outputs": [
    {
     "name": "stdout",
     "output_type": "stream",
     "text": [
      "tensor([[[0.1297, 0.7620]],\n",
      "\n",
      "        [[0.0424, 0.7052]],\n",
      "\n",
      "        [[0.9155, 0.6276]]])\n",
      "tensor([[[[0.1297],\n",
      "          [0.7620]]],\n",
      "\n",
      "\n",
      "        [[[0.0424],\n",
      "          [0.7052]]],\n",
      "\n",
      "\n",
      "        [[[0.9155],\n",
      "          [0.6276]]]])\n",
      "torch.Size([3, 1, 2])\n"
     ]
    }
   ],
   "source": [
    "print(a)\n",
    "out = torch.unsqueeze(a, dim=-1)\n",
    "print(out)\n",
    "print(a.shape)"
   ]
  },
  {
   "cell_type": "code",
   "execution_count": 37,
   "id": "d4084a70",
   "metadata": {},
   "outputs": [
    {
     "name": "stdout",
     "output_type": "stream",
     "text": [
      "tensor([[[0.1297, 0.7620]],\n",
      "\n",
      "        [[0.0424, 0.7052]],\n",
      "\n",
      "        [[0.9155, 0.6276]]])\n",
      "(tensor([[0.1297, 0.7620]]), tensor([[0.0424, 0.7052]]), tensor([[0.9155, 0.6276]]))\n"
     ]
    }
   ],
   "source": [
    "print(a)\n",
    "ut = torch.unbind(a, dim=1)\n",
    "print(out)"
   ]
  },
  {
   "cell_type": "code",
   "execution_count": 48,
   "id": "0cb31a6f",
   "metadata": {},
   "outputs": [
    {
     "name": "stdout",
     "output_type": "stream",
     "text": [
      "tensor([[0.2227, 0.2181, 0.7937, 0.8122],\n",
      "        [0.2592, 0.6767, 0.7813, 0.4505],\n",
      "        [0.8493, 0.6463, 0.3598, 0.4690]])\n",
      "torch.Size([3, 4])\n",
      "tensor([[[0.2227],\n",
      "         [0.2181],\n",
      "         [0.7937],\n",
      "         [0.8122]],\n",
      "\n",
      "        [[0.2592],\n",
      "         [0.6767],\n",
      "         [0.7813],\n",
      "         [0.4505]],\n",
      "\n",
      "        [[0.8493],\n",
      "         [0.6463],\n",
      "         [0.3598],\n",
      "         [0.4690]]])\n",
      "torch.Size([3, 4, 1])\n"
     ]
    }
   ],
   "source": [
    "c = torch.rand(3, 4)\n",
    "out = torch.unsqueeze(c, dim=-1)\n",
    "print(c)\n",
    "print(c.shape)\n",
    "print(out)\n",
    "print(out.shape)"
   ]
  }
 ],
 "metadata": {
  "kernelspec": {
   "display_name": "base",
   "language": "python",
   "name": "python3"
  },
  "language_info": {
   "codemirror_mode": {
    "name": "ipython",
    "version": 3
   },
   "file_extension": ".py",
   "mimetype": "text/x-python",
   "name": "python",
   "nbconvert_exporter": "python",
   "pygments_lexer": "ipython3",
   "version": "3.10.9"
  }
 },
 "nbformat": 4,
 "nbformat_minor": 5
}
