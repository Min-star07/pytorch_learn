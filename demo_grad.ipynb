{
 "cells": [
  {
   "cell_type": "code",
   "execution_count": 1,
   "id": "02de5bc6",
   "metadata": {},
   "outputs": [],
   "source": [
    "import torch"
   ]
  },
  {
   "cell_type": "code",
   "execution_count": 4,
   "id": "89f4c595",
   "metadata": {},
   "outputs": [
    {
     "name": "stdout",
     "output_type": "stream",
     "text": [
      "tensor(7.)\n"
     ]
    }
   ],
   "source": [
    "x = torch.tensor(2.0, requires_grad=True)\n",
    "y = x**2 + x * 3 + 4\n",
    "y.backward()  # This computes the gradient of y with respect to x\n",
    "print(x.grad)  # This prints the gradient dy/dx"
   ]
  },
  {
   "cell_type": "code",
   "execution_count": 8,
   "id": "74d7c38c",
   "metadata": {},
   "outputs": [
    {
     "name": "stdout",
     "output_type": "stream",
     "text": [
      "tensor([-9.3333])\n"
     ]
    }
   ],
   "source": [
    "x_data = torch.tensor([1.0, 2.0, 3.0])\n",
    "y_data = torch.tensor([2.0, 4.0, 6.0])\n",
    "\n",
    "weight = torch.tensor([1.0], requires_grad=True)\n",
    "\n",
    "\n",
    "def forward(x):\n",
    "    return x * weight\n",
    "\n",
    "\n",
    "def loss(x, y):\n",
    "    y_pred = forward(x)\n",
    "    return ((y_pred - y) ** 2).mean()\n",
    "\n",
    "\n",
    "l = loss(x_data, y_data)\n",
    "l.backward()\n",
    "\n",
    "print(weight.grad)  # This prints the gradient of the loss with respect to weight"
   ]
  },
  {
   "cell_type": "code",
   "execution_count": null,
   "id": "d89e4f8a",
   "metadata": {},
   "outputs": [],
   "source": [
    "import torch\n",
    "\n",
    "# Data\n",
    "x_data = torch.tensor([1.0, 2.0, 3.0])\n",
    "y_data = torch.tensor([2.0, 4.0, 6.0])\n",
    "\n",
    "# Initialize weight with requires_grad=True to compute gradients\n",
    "weight = torch.tensor([1.0], requires_grad=True)\n",
    "\n",
    "\n",
    "# Define the forward pass\n",
    "def forward(x):\n",
    "    return x * weight\n",
    "\n",
    "\n",
    "# Define the loss function (Mean Squared Error)\n",
    "def loss(x, y):\n",
    "    y_pred = forward(x)\n",
    "    return (\n",
    "        (y_pred - y) ** 2\n",
    "    ).mean()  # Use mean to get the average loss over all points\n",
    "\n",
    "\n",
    "# Calculate the loss\n",
    "l = loss(x_data, y_data)\n",
    "\n",
    "# Perform backward pass to compute the gradient\n",
    "l.backward()\n",
    "\n",
    "# Print the gradient of the loss with respect to the weight\n",
    "print(weight.grad)"
   ]
  },
  {
   "cell_type": "code",
   "execution_count": 9,
   "id": "44c63dc4",
   "metadata": {},
   "outputs": [
    {
     "name": "stdout",
     "output_type": "stream",
     "text": [
      "<MulBackward0 object at 0x0000024C750FE8F0>\n"
     ]
    }
   ],
   "source": [
    "import torch\n",
    "\n",
    "# 创建一个 Tensor，设置 requires_grad=True 来跟踪与它相关的操作\n",
    "x = torch.tensor([2.0], requires_grad=True)\n",
    "\n",
    "# 执行一个操作\n",
    "y = x * x\n",
    "\n",
    "# 查看 y 的 grad_fn 属性\n",
    "print(y.grad_fn)  # 这显示了 y 是通过哪种操作得到的"
   ]
  }
 ],
 "metadata": {
  "kernelspec": {
   "display_name": "base",
   "language": "python",
   "name": "python3"
  },
  "language_info": {
   "codemirror_mode": {
    "name": "ipython",
    "version": 3
   },
   "file_extension": ".py",
   "mimetype": "text/x-python",
   "name": "python",
   "nbconvert_exporter": "python",
   "pygments_lexer": "ipython3",
   "version": "3.10.9"
  }
 },
 "nbformat": 4,
 "nbformat_minor": 5
}
